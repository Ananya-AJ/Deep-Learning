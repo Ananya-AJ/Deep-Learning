{
  "nbformat": 4,
  "nbformat_minor": 0,
  "metadata": {
    "colab": {
      "provenance": [],
      "authorship_tag": "ABX9TyON6I6OA/j6YGrfwXeC1W65",
      "include_colab_link": true
    },
    "kernelspec": {
      "name": "python3",
      "display_name": "Python 3"
    },
    "language_info": {
      "name": "python"
    }
  },
  "cells": [
    {
      "cell_type": "markdown",
      "metadata": {
        "id": "view-in-github",
        "colab_type": "text"
      },
      "source": [
        "<a href=\"https://colab.research.google.com/github/Ananya-AJ/Deep-Learning/blob/main/2b_Operations_Tensorflow_individual_ipynb.ipynb\" target=\"_parent\"><img src=\"https://colab.research.google.com/assets/colab-badge.svg\" alt=\"Open In Colab\"/></a>"
      ]
    },
    {
      "cell_type": "code",
      "execution_count": 1,
      "metadata": {
        "id": "xXOcaSkEZhpB"
      },
      "outputs": [],
      "source": [
        "import tensorflow as tf\n",
        "#import torch.nn.functional as F"
      ]
    },
    {
      "cell_type": "code",
      "source": [
        "# Scalar vector multiplication\n",
        "a = tf.random.normal([1])\n",
        "b = tf.random.normal([5, 6])\n",
        "mult = tf.einsum('k, ij -> ij', a, b)\n",
        "print(a)\n",
        "print(b)\n",
        "print(mult)"
      ],
      "metadata": {
        "colab": {
          "base_uri": "https://localhost:8080/"
        },
        "id": "AR9pC_e_Zn2f",
        "outputId": "e3fbed28-1842-42b2-8ee6-b71a3101af81"
      },
      "execution_count": 2,
      "outputs": [
        {
          "output_type": "stream",
          "name": "stdout",
          "text": [
            "tf.Tensor([1.2821679], shape=(1,), dtype=float32)\n",
            "tf.Tensor(\n",
            "[[ 0.40165392  0.65783745 -2.111114    0.53767616  0.59892994 -1.9345528 ]\n",
            " [ 0.72670317 -1.9698162  -0.8262181   0.7928331  -1.5487446   1.0704191 ]\n",
            " [ 1.5264395  -0.57796836  0.75386935 -1.7936537  -0.62643427  0.23802334]\n",
            " [ 1.2598141   0.3106607   0.6674961  -0.13703941  1.605088   -0.13743961]\n",
            " [-0.46057248 -0.01992672  0.7327933  -0.28497723 -0.39194766  0.79076666]], shape=(5, 6), dtype=float32)\n",
            "tf.Tensor(\n",
            "[[ 0.51498777  0.84345806 -2.7068026   0.68939114  0.7679288  -2.4804215 ]\n",
            " [ 0.9317555  -2.5256352  -1.0593504   1.0165452  -1.9857506   1.372457  ]\n",
            " [ 1.9571518  -0.7410525   0.96658707 -2.2997653  -0.8031939   0.30518588]\n",
            " [ 1.6152933   0.39831915  0.85584205 -0.17570753  2.0579922  -0.17622066]\n",
            " [-0.59053123 -0.0255494   0.939564   -0.36538866 -0.50254273  1.0138956 ]], shape=(5, 6), dtype=float32)\n"
          ]
        }
      ]
    },
    {
      "cell_type": "code",
      "source": [
        "# Vector vector multiplication\n",
        "\n",
        "a = tf.random.normal([2, 7])\n",
        "b = tf.random.normal([7, 3])\n",
        "mult = tf.einsum('ij, jk -> ik', a, b)\n",
        "print(a)\n",
        "print(b)\n",
        "print(mult)"
      ],
      "metadata": {
        "colab": {
          "base_uri": "https://localhost:8080/"
        },
        "id": "FI7fGY8tZqkK",
        "outputId": "320957d2-0f91-477e-8403-9724904a45e3"
      },
      "execution_count": 6,
      "outputs": [
        {
          "output_type": "stream",
          "name": "stdout",
          "text": [
            "tf.Tensor(\n",
            "[[-0.41132474  0.91623765  0.77093697  1.5895838   2.0400152   2.3900526\n",
            "   1.2411517 ]\n",
            " [-0.35397866 -0.05396651 -1.0702811   1.2171493   1.1295874  -2.8512108\n",
            "  -1.3250433 ]], shape=(2, 7), dtype=float32)\n",
            "tf.Tensor(\n",
            "[[ 0.5471122  -0.43221912  0.11204296]\n",
            " [-0.14812954  0.24180292 -0.45709532]\n",
            " [-0.47763172 -0.16644199  1.4961685 ]\n",
            " [ 1.1308765   0.04805908 -0.01858621]\n",
            " [-0.02196163  0.4942314   0.6119839 ]\n",
            " [-0.22993766  0.3769104  -0.89048046]\n",
            " [-1.8391749   0.74487144 -0.47952586]], shape=(7, 3), dtype=float32)\n",
            "tf.Tensor(\n",
            "[[-1.808424   3.1809826 -0.8159898]\n",
            " [ 4.7697535 -1.1267786  2.2266932]], shape=(2, 3), dtype=float32)\n"
          ]
        }
      ]
    },
    {
      "cell_type": "code",
      "source": [
        "# Outer product\n",
        "\n",
        "a = tf.range(4)\n",
        "b = tf.range(3, 8)  \n",
        "prod = tf.einsum('i,j -> ij', a, b)\n",
        "print(a)\n",
        "print(b)\n",
        "print(prod)"
      ],
      "metadata": {
        "colab": {
          "base_uri": "https://localhost:8080/"
        },
        "id": "ggOSqEXUZtMq",
        "outputId": "cead169b-db09-4074-9480-c23a1d5222b8"
      },
      "execution_count": 7,
      "outputs": [
        {
          "output_type": "stream",
          "name": "stdout",
          "text": [
            "tf.Tensor([0 1 2 3], shape=(4,), dtype=int32)\n",
            "tf.Tensor([3 4 5 6 7], shape=(5,), dtype=int32)\n",
            "tf.Tensor(\n",
            "[[ 0  0  0  0  0]\n",
            " [ 3  4  5  6  7]\n",
            " [ 6  8 10 12 14]\n",
            " [ 9 12 15 18 21]], shape=(4, 5), dtype=int32)\n"
          ]
        }
      ]
    },
    {
      "cell_type": "code",
      "source": [
        "# Scalar dot product\n",
        "\n",
        "a = tf.range(9)\n",
        "a = tf.reshape(a, [3, 3])\n",
        "\n",
        "b = tf.range(6)\n",
        "b = tf.reshape(b, [3, 2])\n",
        "\n",
        "prod = tf.einsum('ij, jk ->', a, b)\n",
        "print(a)\n",
        "print(b)\n",
        "print(prod)"
      ],
      "metadata": {
        "colab": {
          "base_uri": "https://localhost:8080/"
        },
        "id": "Z4qVk2fXZvuY",
        "outputId": "d673d966-41f8-49f6-9149-179a4768b42a"
      },
      "execution_count": 9,
      "outputs": [
        {
          "output_type": "stream",
          "name": "stdout",
          "text": [
            "tf.Tensor(\n",
            "[[0 1 2]\n",
            " [3 4 5]\n",
            " [6 7 8]], shape=(3, 3), dtype=int32)\n",
            "tf.Tensor(\n",
            "[[0 1]\n",
            " [2 3]\n",
            " [4 5]], shape=(3, 2), dtype=int32)\n",
            "tf.Tensor(204, shape=(), dtype=int32)\n"
          ]
        }
      ]
    },
    {
      "cell_type": "code",
      "source": [
        "# Hadamard product\n",
        "a = tf.range(8)\n",
        "a = tf.reshape(a, [2, 4])\n",
        "\n",
        "b = tf.range(4, 12)\n",
        "b = tf.reshape(b, [2, 4])\n",
        "\n",
        "prod = tf.einsum('ij, ij -> ij', a, b)\n",
        "print(a)\n",
        "print(b)\n",
        "print(prod)\n",
        "     "
      ],
      "metadata": {
        "colab": {
          "base_uri": "https://localhost:8080/"
        },
        "id": "gnMCgZ1NZy3b",
        "outputId": "daf98427-0ba6-4164-e543-6bb0a37076b0"
      },
      "execution_count": 15,
      "outputs": [
        {
          "output_type": "stream",
          "name": "stdout",
          "text": [
            "tf.Tensor(\n",
            "[[0 1 2 3]\n",
            " [4 5 6 7]], shape=(2, 4), dtype=int32)\n",
            "tf.Tensor(\n",
            "[[ 4  5  6  7]\n",
            " [ 8  9 10 11]], shape=(2, 4), dtype=int32)\n",
            "tf.Tensor(\n",
            "[[ 0  5 12 21]\n",
            " [32 45 60 77]], shape=(2, 4), dtype=int32)\n"
          ]
        }
      ]
    },
    {
      "cell_type": "code",
      "source": [
        "# Batch matrix multiplication\n",
        "\n",
        "a = tf.random.normal([3, 4, 2])\n",
        "b = tf.random.normal([3, 2, 2])\n",
        "batch_mult = tf.einsum('bij, bjk -> bik', a, b)\n",
        "print(a)\n",
        "print(b)\n",
        "print(batch_mult)"
      ],
      "metadata": {
        "colab": {
          "base_uri": "https://localhost:8080/"
        },
        "id": "30K9EhnKZ1bx",
        "outputId": "d5759d01-4150-4438-8a93-f87dc5f5fbaf"
      },
      "execution_count": 16,
      "outputs": [
        {
          "output_type": "stream",
          "name": "stdout",
          "text": [
            "tf.Tensor(\n",
            "[[[ 0.38194624  0.34270915]\n",
            "  [-0.879425   -0.73935103]\n",
            "  [-1.2717137  -1.3472259 ]\n",
            "  [ 0.35558152  1.9951417 ]]\n",
            "\n",
            " [[ 1.3271325  -0.4018247 ]\n",
            "  [-1.1578293  -0.8873949 ]\n",
            "  [-1.5925052  -0.40281194]\n",
            "  [-1.1819249  -0.2048785 ]]\n",
            "\n",
            " [[-0.99848324  0.05251945]\n",
            "  [-0.46846178 -0.72392076]\n",
            "  [-0.43762836 -0.11834554]\n",
            "  [ 0.25437918  0.24476476]]], shape=(3, 4, 2), dtype=float32)\n",
            "tf.Tensor(\n",
            "[[[-1.2051611  -1.3100903 ]\n",
            "  [ 0.8105676  -0.9133905 ]]\n",
            "\n",
            " [[-0.13709576 -0.20872512]\n",
            "  [ 0.78235644 -0.21937971]]\n",
            "\n",
            " [[ 0.83996737 -0.15409812]\n",
            "  [ 0.76714176 -0.77182287]]], shape=(3, 2, 2), dtype=float32)\n",
            "tf.Tensor(\n",
            "[[[-1.8251780e-01 -8.1341136e-01]\n",
            "  [ 4.6055478e-01  1.8274424e+00]\n",
            "  [ 4.4060230e-01  2.8966031e+00]\n",
            "  [ 1.1886642e+00 -2.2881875e+00]]\n",
            "\n",
            " [[-4.9631441e-01 -1.8885370e-01]\n",
            "  [-5.3552562e-01  4.3634450e-01]\n",
            "  [-9.6816793e-02  4.2076463e-01]\n",
            "  [ 1.7488897e-03  2.9164362e-01]]\n",
            "\n",
            " [[-7.9840344e-01  1.1332868e-01]\n",
            "  [-9.4884241e-01  6.3092768e-01]\n",
            "  [-4.5838133e-01  1.5877950e-01]\n",
            "  [ 4.0143949e-01 -2.2811440e-01]]], shape=(3, 4, 2), dtype=float32)\n"
          ]
        }
      ]
    },
    {
      "cell_type": "code",
      "source": [
        "# Tensor reduction\n",
        "\n",
        "a = tf.random.normal([2, 3, 5, 7])\n",
        "b = tf.random.normal([4, 1, 3, 11, 5])\n",
        "reduction = tf.einsum('pqrs, tuqvr -> pstuv', a, b)\n",
        "print(a.shape, b.shape, reduction.shape)"
      ],
      "metadata": {
        "colab": {
          "base_uri": "https://localhost:8080/"
        },
        "id": "Tez82vCdZ4BX",
        "outputId": "5a09135b-01f1-4f7d-b80c-69a7e4915270"
      },
      "execution_count": 17,
      "outputs": [
        {
          "output_type": "stream",
          "name": "stdout",
          "text": [
            "(2, 3, 5, 7) (4, 1, 3, 11, 5) (2, 7, 4, 1, 11)\n"
          ]
        }
      ]
    },
    {
      "cell_type": "code",
      "source": [
        "# Transpose\n",
        "\n",
        "a = tf.range(8)\n",
        "a = tf.reshape(a, [4, 2])\n",
        "transpose = tf.einsum('ij -> ji', a)\n",
        "print(a)\n",
        "print(transpose)"
      ],
      "metadata": {
        "colab": {
          "base_uri": "https://localhost:8080/"
        },
        "id": "5cR6z1C3Z6jp",
        "outputId": "dcf8229a-08e4-4434-c45e-e3ff66a808f4"
      },
      "execution_count": 18,
      "outputs": [
        {
          "output_type": "stream",
          "name": "stdout",
          "text": [
            "tf.Tensor(\n",
            "[[0 1]\n",
            " [2 3]\n",
            " [4 5]\n",
            " [6 7]], shape=(4, 2), dtype=int32)\n",
            "tf.Tensor(\n",
            "[[0 2 4 6]\n",
            " [1 3 5 7]], shape=(2, 4), dtype=int32)\n"
          ]
        }
      ]
    },
    {
      "cell_type": "code",
      "source": [
        "# Bilinear transformation\n",
        "\n",
        "a = tf.random.normal([2, 3])\n",
        "b = tf.random.normal([3, 3, 4])\n",
        "c = tf.random.normal([2, 4])\n",
        "bilinear = tf.einsum('ik, jkl, il -> ij', a, b, c)\n",
        "print(a)\n",
        "print(b)\n",
        "print(c)\n",
        "print(bilinear)"
      ],
      "metadata": {
        "colab": {
          "base_uri": "https://localhost:8080/"
        },
        "id": "uwTF4kweZ9As",
        "outputId": "5a39f131-0fdf-4616-fe1e-7b1d3109bdfc"
      },
      "execution_count": 19,
      "outputs": [
        {
          "output_type": "stream",
          "name": "stdout",
          "text": [
            "tf.Tensor(\n",
            "[[-0.9481942  -0.14559609  0.10019495]\n",
            " [-0.17483857  0.07601499  0.8096505 ]], shape=(2, 3), dtype=float32)\n",
            "tf.Tensor(\n",
            "[[[-0.6213212  -2.9392493   1.3732809  -1.0760288 ]\n",
            "  [ 0.4968914   0.09411446 -0.02515964  1.0737703 ]\n",
            "  [ 1.2254181  -0.7105061  -0.50872606  0.11953892]]\n",
            "\n",
            " [[ 0.20993432 -1.1688963   0.1455556   0.30529317]\n",
            "  [ 0.1548564  -0.07812924 -1.531444   -0.5993297 ]\n",
            "  [-0.8454384  -0.03670199  0.47082785 -1.2650276 ]]\n",
            "\n",
            " [[ 0.07656003  0.9501785   0.2355877   0.9915011 ]\n",
            "  [-0.22254634 -0.22615905 -0.6547773  -0.8297342 ]\n",
            "  [-0.88420963 -0.285777   -0.2397389  -1.1546401 ]]], shape=(3, 3, 4), dtype=float32)\n",
            "tf.Tensor(\n",
            "[[-0.7159194  -0.57833844 -0.33297968  0.6554019 ]\n",
            " [-0.86000353 -1.760971   -0.8747508   0.6627217 ]], shape=(2, 4), dtype=float32)\n",
            "tf.Tensor(\n",
            "[[-0.9971797  -0.6857547   0.0485958 ]\n",
            " [-0.06878227 -0.6406889   0.84514046]], shape=(2, 3), dtype=float32)\n"
          ]
        }
      ]
    },
    {
      "cell_type": "code",
      "source": [
        "# Attention\n",
        "\n",
        "# Parameters\n",
        "# [hidden_dimension]\n",
        "bM = tf.random.normal([7])\n",
        "br = tf.random.normal([7]) \n",
        "w = tf.random.normal([7])\n",
        "# [hidden_dimension x hidden_dimension]\n",
        "WY = tf.random.normal([7, 7])\n",
        "Wh = tf.random.normal([7, 7])\n",
        "Wr = tf.random.normal([7, 7])\n",
        "Wt = tf.random.normal([7, 7])\n",
        "\n",
        "def attention(Y, ht, rt1):\n",
        "  # [batch_size x hidden_dimension] \n",
        "  tmp = tf.einsum('ik, kl -> il', ht, Wh) + tf.einsum('ik, kl -> il', rt1, Wr)\n",
        "\n",
        "  tmp_expanded = tf.expand_dims(tmp, 1)\n",
        "  tmp_tiled = tf.tile(tmp_expanded, [1, Y.shape[1], 1]) \n",
        "  Mt = tf.tanh(tf.einsum('ijk, kl -> ijl', Y, WY) + tmp_tiled + bM)\n",
        "  \n",
        "  # [batch_size x sequence_length]\n",
        "  at = tf.nn.softmax(tf.einsum('ijk, k -> ij', Mt, w)) \n",
        "  \n",
        "  # [batch_size x hidden_dimension]\n",
        "  rt = tf.einsum('ijk, ij -> ik', Y, at) + tf.tanh(tf.einsum('ij, jk -> ik', rt1, Wt) + br)\n",
        "  \n",
        "  return rt, at\n",
        "\n",
        "# Inputs - [batch_size x sequence_length x hidden_dimension]\n",
        "Y = tf.random.normal([3,5,7])\n",
        "# [batch_size x hidden_dimension]\n",
        "ht = tf.random.normal([3, 7])\n",
        "rt1 = tf.random.normal([3, 7])\n",
        "\n",
        "rt, at = attention(Y, ht, rt1)\n",
        "\n",
        "print(at)"
      ],
      "metadata": {
        "colab": {
          "base_uri": "https://localhost:8080/"
        },
        "id": "ba-BGAvRZ_b4",
        "outputId": "e3887a13-2a89-48d2-f0b3-68dfc0bda361"
      },
      "execution_count": 20,
      "outputs": [
        {
          "output_type": "stream",
          "name": "stdout",
          "text": [
            "tf.Tensor(\n",
            "[[0.475607   0.03602824 0.03254459 0.02391376 0.4319064 ]\n",
            " [0.11185419 0.5547139  0.05950851 0.09914203 0.17478135]\n",
            " [0.44022503 0.02524615 0.00213021 0.18614516 0.3462534 ]], shape=(3, 5), dtype=float32)\n"
          ]
        }
      ]
    },
    {
      "cell_type": "code",
      "source": [
        "# Treeqn\n",
        "\n",
        "def transition(zl):\n",
        "  # [batch_size x num_actions x hidden_dimension]\n",
        "  return tf.expand_dims(zl, 1) + tf.tanh(tf.einsum('bk, aki -> bai', zl, W) + b)\n",
        "\n",
        "# Inputs - [batch_size x hidden_dimension]\n",
        "zl = tf.random.normal([2, 3])\n",
        "# Parameters - [num_actions x hidden_dimension]\n",
        "b = tf.random.normal([5, 3])\n",
        "# Actions - [num_actions x hidden_dimension x hidden_dimension]\n",
        "W = tf.random.normal([5, 3, 3])\n",
        "\n",
        "transition(zl)"
      ],
      "metadata": {
        "colab": {
          "base_uri": "https://localhost:8080/"
        },
        "id": "GZYUEJBsaEei",
        "outputId": "84b398d5-726e-43db-e500-96da01273655"
      },
      "execution_count": 21,
      "outputs": [
        {
          "output_type": "execute_result",
          "data": {
            "text/plain": [
              "<tf.Tensor: shape=(2, 5, 3), dtype=float32, numpy=\n",
              "array([[[ 0.04611313, -1.5458914 ,  0.15339035],\n",
              "        [ 1.8910638 ,  0.39829463, -0.25270396],\n",
              "        [ 1.8700469 , -0.19741261, -0.7094743 ],\n",
              "        [ 1.8402438 ,  0.4028399 , -1.6650093 ],\n",
              "        [ 1.3817077 , -0.31313896,  0.14207983]],\n",
              "\n",
              "       [[-0.3804952 ,  0.54636776, -0.5358778 ],\n",
              "        [-2.074747  ,  0.5418301 , -0.5695238 ],\n",
              "        [-1.4495701 ,  0.65666157,  1.4124969 ],\n",
              "        [-0.3395161 ,  0.7817504 ,  1.3766361 ],\n",
              "        [-2.0388396 ,  0.5666682 , -0.5710226 ]]], dtype=float32)>"
            ]
          },
          "metadata": {},
          "execution_count": 21
        }
      ]
    },
    {
      "cell_type": "code",
      "source": [],
      "metadata": {
        "id": "kRyLciiDaG49"
      },
      "execution_count": null,
      "outputs": []
    }
  ]
}