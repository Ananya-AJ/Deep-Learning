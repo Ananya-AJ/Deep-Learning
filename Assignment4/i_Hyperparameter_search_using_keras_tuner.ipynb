{
  "nbformat": 4,
  "nbformat_minor": 0,
  "metadata": {
    "colab": {
      "provenance": [],
      "authorship_tag": "ABX9TyNUzL9U8f8ShU2QfyCizZqj",
      "include_colab_link": true
    },
    "kernelspec": {
      "name": "python3",
      "display_name": "Python 3"
    },
    "language_info": {
      "name": "python"
    },
    "accelerator": "GPU",
    "gpuClass": "standard"
  },
  "cells": [
    {
      "cell_type": "markdown",
      "metadata": {
        "id": "view-in-github",
        "colab_type": "text"
      },
      "source": [
        "<a href=\"https://colab.research.google.com/github/Ananya-AJ/Deep-Learning/blob/main/Assignment4/i_Hyperparameter_search_using_keras_tuner.ipynb\" target=\"_parent\"><img src=\"https://colab.research.google.com/assets/colab-badge.svg\" alt=\"Open In Colab\"/></a>"
      ]
    },
    {
      "cell_type": "markdown",
      "source": [
        "Objective : To find if hyperparameter search of keras tuner improves accuracy of multi class classification.\n",
        "\n",
        "The dataset used is the CIFAR-10 dataset, which consists of 50,000 training images and 10,000 testing images of different classes (airplane, automobile, bird, cat, deer, dog, frog, horse, ship, and truck). The goal is to train a model that can accurately classify images into one of these 10 categories. "
      ],
      "metadata": {
        "id": "fIOnukqKM53O"
      }
    },
    {
      "cell_type": "code",
      "source": [
        "!pip install tensorflow-gpu\n",
        "!pip install keras-tuner"
      ],
      "metadata": {
        "id": "aS-swSsRtG-r"
      },
      "execution_count": null,
      "outputs": []
    },
    {
      "cell_type": "code",
      "source": [
        "# imports\n",
        "import tensorflow as tf\n",
        "from tensorflow import keras\n",
        "import keras_tuner\n",
        "from tensorflow.keras import layers\n",
        "from kerastuner.tuners import RandomSearch\n",
        "from tensorflow import keras\n",
        "from tensorflow.keras.datasets import cifar10\n"
      ],
      "metadata": {
        "colab": {
          "base_uri": "https://localhost:8080/"
        },
        "id": "oma1tuw9tExB",
        "outputId": "5cd82846-8903-4e5d-92bb-e6c2ead892ff"
      },
      "execution_count": 4,
      "outputs": [
        {
          "output_type": "stream",
          "name": "stderr",
          "text": [
            "<ipython-input-4-a31f5f22114b>:6: DeprecationWarning: `import kerastuner` is deprecated, please use `import keras_tuner`.\n",
            "  from kerastuner.tuners import RandomSearch\n"
          ]
        }
      ]
    },
    {
      "cell_type": "code",
      "source": [
        "# Load CIFAR-10 dataset\n",
        "(x_train, y_train), (x_test, y_test) = cifar10.load_data()\n",
        "\n",
        "# Select a subset of the data for training and testing\n",
        "train_subset = 15000\n",
        "test_subset = 500\n",
        "x_train = x_train[:train_subset]\n",
        "y_train = y_train[:train_subset]\n",
        "x_test = x_test[:test_subset]\n",
        "y_test = y_test[:test_subset]\n",
        "\n",
        "# Normalize pixel values to be between 0 and 1\n",
        "x_train = x_train / 255.0\n",
        "x_test = x_test / 255.0\n",
        "\n",
        "# Convert labels to one-hot encoding\n",
        "num_classes = 10\n",
        "y_train = keras.utils.to_categorical(y_train, num_classes)\n",
        "y_test = keras.utils.to_categorical(y_test, num_classes)\n"
      ],
      "metadata": {
        "id": "-55TG5VfwMQg"
      },
      "execution_count": 49,
      "outputs": []
    },
    {
      "cell_type": "markdown",
      "source": [
        "define a simple CNN model with 3 convolutional layers and 2 fully connected layers\n",
        "\n"
      ],
      "metadata": {
        "id": "S3UbNiAn4ye3"
      }
    },
    {
      "cell_type": "code",
      "source": [
        "def create_model():\n",
        "    model = keras.Sequential([\n",
        "        layers.Conv2D(32, (3,3), activation='relu', input_shape=(32,32,3)),\n",
        "        layers.MaxPooling2D((2,2)),\n",
        "        layers.Conv2D(64, (3,3), activation='relu'),\n",
        "        layers.MaxPooling2D((2,2)),\n",
        "        layers.Conv2D(128, (3,3), activation='relu'),\n",
        "        layers.Flatten(),\n",
        "        layers.Dense(128, activation='relu'),\n",
        "        layers.Dense(num_classes, activation='softmax')\n",
        "    ])\n",
        "    model.compile(optimizer='adam', loss='categorical_crossentropy', metrics=['accuracy'])\n",
        "    return model\n"
      ],
      "metadata": {
        "id": "wEjVVKClwPfz"
      },
      "execution_count": 50,
      "outputs": []
    },
    {
      "cell_type": "markdown",
      "source": [
        "train the model for 20 epochs and evaluate its accuracy on the test set"
      ],
      "metadata": {
        "id": "PbEmlXyL43kn"
      }
    },
    {
      "cell_type": "code",
      "source": [
        "# Create and train the model\n",
        "model = create_model()\n",
        "history = model.fit(x_train, y_train, epochs=20, validation_data=(x_test, y_test))\n",
        "\n",
        "# Evaluate the model on the test set\n",
        "test_loss, test_acc = model.evaluate(x_test, y_test)\n",
        "print('Test accuracy:', test_acc)\n"
      ],
      "metadata": {
        "colab": {
          "base_uri": "https://localhost:8080/"
        },
        "id": "_mNFXHSLwU4V",
        "outputId": "d4b19aac-756f-408b-bf1b-3ec8112e8930"
      },
      "execution_count": 51,
      "outputs": [
        {
          "output_type": "stream",
          "name": "stdout",
          "text": [
            "Epoch 1/20\n",
            "469/469 [==============================] - 5s 8ms/step - loss: 1.7645 - accuracy: 0.3436 - val_loss: 1.5086 - val_accuracy: 0.4540\n",
            "Epoch 2/20\n",
            "469/469 [==============================] - 2s 5ms/step - loss: 1.3980 - accuracy: 0.4895 - val_loss: 1.3290 - val_accuracy: 0.5160\n",
            "Epoch 3/20\n",
            "469/469 [==============================] - 2s 5ms/step - loss: 1.2403 - accuracy: 0.5566 - val_loss: 1.2979 - val_accuracy: 0.5140\n",
            "Epoch 4/20\n",
            "469/469 [==============================] - 2s 5ms/step - loss: 1.1118 - accuracy: 0.6078 - val_loss: 1.2018 - val_accuracy: 0.5460\n",
            "Epoch 5/20\n",
            "469/469 [==============================] - 2s 5ms/step - loss: 0.9989 - accuracy: 0.6481 - val_loss: 1.1446 - val_accuracy: 0.5960\n",
            "Epoch 6/20\n",
            "469/469 [==============================] - 3s 7ms/step - loss: 0.9022 - accuracy: 0.6811 - val_loss: 1.0898 - val_accuracy: 0.6000\n",
            "Epoch 7/20\n",
            "469/469 [==============================] - 2s 5ms/step - loss: 0.8092 - accuracy: 0.7135 - val_loss: 1.1085 - val_accuracy: 0.6040\n",
            "Epoch 8/20\n",
            "469/469 [==============================] - 2s 5ms/step - loss: 0.7251 - accuracy: 0.7438 - val_loss: 1.1218 - val_accuracy: 0.6000\n",
            "Epoch 9/20\n",
            "469/469 [==============================] - 2s 5ms/step - loss: 0.6291 - accuracy: 0.7789 - val_loss: 1.0920 - val_accuracy: 0.6300\n",
            "Epoch 10/20\n",
            "469/469 [==============================] - 2s 5ms/step - loss: 0.5380 - accuracy: 0.8071 - val_loss: 1.1437 - val_accuracy: 0.6300\n",
            "Epoch 11/20\n",
            "469/469 [==============================] - 3s 6ms/step - loss: 0.4604 - accuracy: 0.8384 - val_loss: 1.2404 - val_accuracy: 0.6080\n",
            "Epoch 12/20\n",
            "469/469 [==============================] - 2s 5ms/step - loss: 0.3751 - accuracy: 0.8671 - val_loss: 1.2979 - val_accuracy: 0.6220\n",
            "Epoch 13/20\n",
            "469/469 [==============================] - 2s 5ms/step - loss: 0.3129 - accuracy: 0.8909 - val_loss: 1.4368 - val_accuracy: 0.6080\n",
            "Epoch 14/20\n",
            "469/469 [==============================] - 2s 5ms/step - loss: 0.2393 - accuracy: 0.9185 - val_loss: 1.7625 - val_accuracy: 0.5960\n",
            "Epoch 15/20\n",
            "469/469 [==============================] - 2s 5ms/step - loss: 0.2154 - accuracy: 0.9239 - val_loss: 1.7388 - val_accuracy: 0.5880\n",
            "Epoch 16/20\n",
            "469/469 [==============================] - 2s 5ms/step - loss: 0.1862 - accuracy: 0.9367 - val_loss: 1.7316 - val_accuracy: 0.6100\n",
            "Epoch 17/20\n",
            "469/469 [==============================] - 3s 6ms/step - loss: 0.1527 - accuracy: 0.9485 - val_loss: 1.9834 - val_accuracy: 0.5900\n",
            "Epoch 18/20\n",
            "469/469 [==============================] - 2s 5ms/step - loss: 0.1307 - accuracy: 0.9560 - val_loss: 2.0692 - val_accuracy: 0.6000\n",
            "Epoch 19/20\n",
            "469/469 [==============================] - 2s 5ms/step - loss: 0.1101 - accuracy: 0.9633 - val_loss: 2.2669 - val_accuracy: 0.5680\n",
            "Epoch 20/20\n",
            "469/469 [==============================] - 2s 5ms/step - loss: 0.0968 - accuracy: 0.9673 - val_loss: 2.2821 - val_accuracy: 0.6120\n",
            "16/16 [==============================] - 0s 3ms/step - loss: 2.2821 - accuracy: 0.6120\n",
            "Test accuracy: 0.6119999885559082\n"
          ]
        }
      ]
    },
    {
      "cell_type": "markdown",
      "source": [
        "Hyperparameter tuning with Keras Tuner:\n",
        "We will use the RandomSearch tuner to randomly sample values for the hyperparameters, and we will search over the learning rate, number of filters in the convolutional layers, and number of neurons in the fully connected layers."
      ],
      "metadata": {
        "id": "xI9ujIfH46lE"
      }
    },
    {
      "cell_type": "code",
      "source": [
        "from kerastuner.tuners import RandomSearch\n",
        "\n",
        "# Define the hyperparameter search space\n",
        "def create_model(hp):\n",
        "    model = keras.Sequential()\n",
        "    model.add(layers.Conv2D(hp.Int('filters1', 32, 96, step=32), (3,3), activation='relu', input_shape=x_train.shape[1:]))\n",
        "    model.add(layers.MaxPooling2D((2,2)))\n",
        "    model.add(layers.Conv2D(hp.Int('filters2', 32, 96, step=32), (3,3), activation='relu'))\n",
        "    model.add(layers.MaxPooling2D((2,2)))\n",
        "    model.add(layers.Conv2D(hp.Int('filters3', 32, 96, step=32), (3,3), activation='relu'))\n",
        "    model.add(layers.Flatten())\n",
        "    model.add(layers.Dense(hp.Int('units1', 64, 256, step=32), activation='relu'))\n",
        "    model.add(layers.Dense(num_classes, activation='softmax'))\n",
        "    model.compile(optimizer=keras.optimizers.Adam(hp.Choice('learning_rate', [1e-3, 1e-4, 1e-5])),\n",
        "                  loss='categorical_crossentropy', metrics=['accuracy'])\n",
        "    return model"
      ],
      "metadata": {
        "id": "RGdXEMzSwnRc"
      },
      "execution_count": 57,
      "outputs": []
    },
    {
      "cell_type": "code",
      "source": [
        "# Define the tuner\n",
        "tuner = RandomSearch(\n",
        "    create_model,\n",
        "    objective='val_accuracy',\n",
        "    max_trials=10,\n",
        "    executions_per_trial=2,\n",
        "    directory='keras_tuner',\n",
        "    project_name='cifar10'\n",
        ")"
      ],
      "metadata": {
        "id": "vYW977p7ww04"
      },
      "execution_count": 58,
      "outputs": []
    },
    {
      "cell_type": "code",
      "source": [
        "# Search for the best hyperparameters\n",
        "tuner.search(x_train, y_train, epochs=30, validation_data=(x_test, y_test))"
      ],
      "metadata": {
        "id": "adm3WCsoxB65"
      },
      "execution_count": 59,
      "outputs": []
    },
    {
      "cell_type": "code",
      "source": [
        "# Print the best hyperparameters\n",
        "best_hyperparams = tuner.get_best_hyperparameters()[0]\n",
        "print('Best hyperparameters:')\n",
        "print(f'learning_rate = {best_hyperparams.get(\"learning_rate\")}')\n",
        "print(f'filters1 = {best_hyperparams.get(\"filters1\")}')\n",
        "print(f'filters2 = {best_hyperparams.get(\"filters2\")}')\n",
        "print(f'filters3 = {best_hyperparams.get(\"filters3\")}')\n",
        "print(f'units1 = {best_hyperparams.get(\"units1\")}')"
      ],
      "metadata": {
        "colab": {
          "base_uri": "https://localhost:8080/"
        },
        "id": "L61j0lGlxFvK",
        "outputId": "a1ac86c4-33f0-4557-ddf1-ef4469270a2d"
      },
      "execution_count": 60,
      "outputs": [
        {
          "output_type": "stream",
          "name": "stdout",
          "text": [
            "Best hyperparameters:\n",
            "learning_rate = 0.001\n",
            "filters1 = 32\n",
            "filters2 = 64\n",
            "filters3 = 128\n",
            "units1 = 192\n"
          ]
        }
      ]
    },
    {
      "cell_type": "markdown",
      "source": [
        "retrieve the best hyperparameters and create a new model with those values"
      ],
      "metadata": {
        "id": "OW16qKrJ5WNz"
      }
    },
    {
      "cell_type": "code",
      "source": [
        "# Create a new model with the best hyperparameters\n",
        "model = tuner.hypermodel.build(best_hyperparams)\n",
        "model.compile(optimizer=keras.optimizers.Adam(best_hyperparams.get('learning_rate')),\n",
        "              loss='categorical_crossentropy', metrics=['accuracy'])\n",
        "\n",
        "# Train the model for 20 epochs with the best hyperparameters\n",
        "history = model.fit(x_train, y_train, epochs=10, validation_data=(x_test, y_test))\n",
        "\n",
        "# Evaluate the model on the test set with the best hyperparameters\n",
        "test_loss, test_acc = model.evaluate(x_test, y_test)\n",
        "print('Test accuracy with hyperparameter tuning:', test_acc)"
      ],
      "metadata": {
        "colab": {
          "base_uri": "https://localhost:8080/"
        },
        "id": "c14bUgTmzYVw",
        "outputId": "ae14a47e-5794-4317-be3b-c8865c2130b0"
      },
      "execution_count": 61,
      "outputs": [
        {
          "output_type": "stream",
          "name": "stdout",
          "text": [
            "Epoch 1/10\n",
            "469/469 [==============================] - 5s 7ms/step - loss: 1.7371 - accuracy: 0.3524 - val_loss: 1.4866 - val_accuracy: 0.4440\n",
            "Epoch 2/10\n",
            "469/469 [==============================] - 3s 6ms/step - loss: 1.3865 - accuracy: 0.4971 - val_loss: 1.2507 - val_accuracy: 0.5540\n",
            "Epoch 3/10\n",
            "469/469 [==============================] - 3s 6ms/step - loss: 1.2149 - accuracy: 0.5682 - val_loss: 1.1859 - val_accuracy: 0.5600\n",
            "Epoch 4/10\n",
            "469/469 [==============================] - 3s 7ms/step - loss: 1.0940 - accuracy: 0.6182 - val_loss: 1.2590 - val_accuracy: 0.5680\n",
            "Epoch 5/10\n",
            "469/469 [==============================] - 3s 7ms/step - loss: 0.9833 - accuracy: 0.6533 - val_loss: 1.1247 - val_accuracy: 0.6100\n",
            "Epoch 6/10\n",
            "469/469 [==============================] - 3s 6ms/step - loss: 0.8673 - accuracy: 0.6961 - val_loss: 1.0656 - val_accuracy: 0.6220\n",
            "Epoch 7/10\n",
            "469/469 [==============================] - 2s 5ms/step - loss: 0.7811 - accuracy: 0.7279 - val_loss: 1.0705 - val_accuracy: 0.6680\n",
            "Epoch 8/10\n",
            "469/469 [==============================] - 2s 5ms/step - loss: 0.6644 - accuracy: 0.7675 - val_loss: 1.0295 - val_accuracy: 0.6480\n",
            "Epoch 9/10\n",
            "469/469 [==============================] - 2s 5ms/step - loss: 0.5693 - accuracy: 0.8003 - val_loss: 1.2278 - val_accuracy: 0.6100\n",
            "Epoch 10/10\n",
            "469/469 [==============================] - 3s 6ms/step - loss: 0.4639 - accuracy: 0.8371 - val_loss: 1.1394 - val_accuracy: 0.6680\n",
            "16/16 [==============================] - 0s 5ms/step - loss: 1.1394 - accuracy: 0.6680\n",
            "Test accuracy with hyperparameter tuning: 0.6679999828338623\n"
          ]
        }
      ]
    },
    {
      "cell_type": "code",
      "source": [
        "print('Test accuracy with hyperparameter tuning:', test_acc)"
      ],
      "metadata": {
        "colab": {
          "base_uri": "https://localhost:8080/"
        },
        "id": "HRT7KnEr6NRR",
        "outputId": "56853386-d317-4000-8a0c-e889fdbc053e"
      },
      "execution_count": 62,
      "outputs": [
        {
          "output_type": "stream",
          "name": "stdout",
          "text": [
            "Test accuracy with hyperparameter tuning: 0.6679999828338623\n"
          ]
        }
      ]
    },
    {
      "cell_type": "markdown",
      "source": [
        "After hyper parameter tuning, test accuracy increases to 66% and loss decreases considerably to 1.13 while test accuracy without hyper parameter training was 61% and loss was 2.28"
      ],
      "metadata": {
        "id": "rT-4-wU358ex"
      }
    }
  ]
}