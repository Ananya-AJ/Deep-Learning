{
  "nbformat": 4,
  "nbformat_minor": 0,
  "metadata": {
    "colab": {
      "provenance": [],
      "authorship_tag": "ABX9TyMtM6LdmqMleuESi1Wt1wc8",
      "include_colab_link": true
    },
    "kernelspec": {
      "name": "python3",
      "display_name": "Python 3"
    },
    "language_info": {
      "name": "python"
    },
    "accelerator": "GPU",
    "gpuClass": "standard"
  },
  "cells": [
    {
      "cell_type": "markdown",
      "metadata": {
        "id": "view-in-github",
        "colab_type": "text"
      },
      "source": [
        "<a href=\"https://colab.research.google.com/github/Ananya-AJ/Deep-Learning/blob/main/Assignment4/k_data_augmentation_classification_timeseries.ipynb\" target=\"_parent\"><img src=\"https://colab.research.google.com/assets/colab-badge.svg\" alt=\"Open In Colab\"/></a>"
      ]
    },
    {
      "cell_type": "markdown",
      "source": [
        "Neural network to classify temperatures as high and low. simple time series dataset that you can use to train a neural network and test for accuracy. This dataset consists of daily minimum temperatures in Melbourne, Australia from 1981 to 1990."
      ],
      "metadata": {
        "id": "Rehssapie_Y0"
      }
    },
    {
      "cell_type": "code",
      "source": [
        "!pip install tsaug"
      ],
      "metadata": {
        "colab": {
          "base_uri": "https://localhost:8080/"
        },
        "id": "EdN2dMcTn74n",
        "outputId": "747f2197-b9a6-4439-a275-553bf29b5098"
      },
      "execution_count": 2,
      "outputs": [
        {
          "output_type": "stream",
          "name": "stdout",
          "text": [
            "Looking in indexes: https://pypi.org/simple, https://us-python.pkg.dev/colab-wheels/public/simple/\n",
            "Collecting tsaug\n",
            "  Downloading tsaug-0.2.1-py3-none-any.whl (32 kB)\n",
            "Requirement already satisfied: numpy>=1.14 in /usr/local/lib/python3.9/dist-packages (from tsaug) (1.22.4)\n",
            "Requirement already satisfied: scipy>=1.1 in /usr/local/lib/python3.9/dist-packages (from tsaug) (1.10.1)\n",
            "Installing collected packages: tsaug\n",
            "Successfully installed tsaug-0.2.1\n"
          ]
        }
      ]
    },
    {
      "cell_type": "code",
      "source": [
        "import pandas as pd\n",
        "import numpy as np\n",
        "from sklearn.model_selection import train_test_split\n",
        "from sklearn.preprocessing import StandardScaler, LabelEncoder\n",
        "from tsaug import TimeWarp, Crop, Drift, AddNoise\n",
        "import tsaug\n",
        "from keras.models import Sequential\n",
        "from keras.layers import LSTM, Dense, Dropout"
      ],
      "metadata": {
        "id": "uNQhwbRHpQK5"
      },
      "execution_count": 3,
      "outputs": []
    },
    {
      "cell_type": "code",
      "source": [
        "import pandas as pd\n",
        "import numpy as np\n",
        "import tensorflow as tf\n",
        "from tensorflow import keras\n",
        "from sklearn.model_selection import train_test_split\n",
        "\n",
        "# Load the dataset\n",
        "url = \"https://raw.githubusercontent.com/jbrownlee/Datasets/master/daily-min-temperatures.csv\"\n",
        "dataset = pd.read_csv(url, header=0, index_col=0)\n",
        "\n",
        "# Convert the dataset to a numpy array\n",
        "data = dataset.values\n",
        "\n",
        "# Split the dataset into training and testing sets\n",
        "train_size = int(len(data) * 0.67)\n",
        "test_size = len(data) - train_size\n",
        "train, test = data[0:train_size,:], data[train_size:len(data),:]\n",
        "\n",
        "# Function to create the time series dataset\n",
        "def create_dataset(dataset, look_back=1):\n",
        "    dataX, dataY = [], []\n",
        "    for i in range(len(dataset)-look_back-1):\n",
        "        a = dataset[i:(i+look_back), 0]\n",
        "        dataX.append(a)\n",
        "        dataY.append(dataset[i + look_back, 0])\n",
        "    return np.array(dataX), np.array(dataY)\n",
        "\n",
        "# Reshape the data into the appropriate format for the neural network\n",
        "look_back = 3\n",
        "trainX, trainY = create_dataset(train, look_back)\n",
        "testX, testY = create_dataset(test, look_back)\n",
        "trainX = np.reshape(trainX, (trainX.shape[0], trainX.shape[1], 1))\n",
        "testX = np.reshape(testX, (testX.shape[0], testX.shape[1], 1))\n",
        "\n",
        "# Define the neural network model\n",
        "model = keras.Sequential([\n",
        "    keras.layers.LSTM(4, input_shape=(look_back, 1)),\n",
        "    keras.layers.Dense(1)\n",
        "])\n",
        "\n",
        "# Compile the model\n",
        "model.compile(loss='mean_squared_error', optimizer='adam')\n",
        "\n",
        "# Train the model\n",
        "model.fit(trainX, trainY, epochs=20, batch_size=1, verbose=2)\n",
        "\n",
        "# Evaluate the model on the testing set\n",
        "scores = model.evaluate(testX, testY, verbose=0)\n",
        "print(\"Test loss:\", scores)\n",
        "\n"
      ],
      "metadata": {
        "id": "5baGqkUJPhDi"
      },
      "execution_count": null,
      "outputs": []
    },
    {
      "cell_type": "markdown",
      "source": [
        "Define a function to perform data augmentation on the training data. This function will randomly apply a set of transformations to the data, including timewrap, drift and reverse"
      ],
      "metadata": {
        "id": "4ixsW611RlQv"
      }
    },
    {
      "cell_type": "code",
      "source": [
        "from tsaug import TimeWarp, Drift, Reverse\n",
        "\n",
        "# Define the augmentations\n",
        "augmenter = (\n",
        "    TimeWarp() \n",
        "    + Drift(max_drift=(0.1, 0.3)) \n",
        "    + Reverse()\n",
        ")\n",
        "\n",
        "# Apply the augmentations to the training data\n",
        "trainX_aug = np.zeros_like(trainX)\n",
        "for i in range(len(trainX)):\n",
        "    trainX_aug[i, :, 0] = augmenter.augment(trainX[i, :, 0])\n",
        "    \n",
        "# Apply the augmentations to the testing data\n",
        "testX_aug = np.zeros_like(testX)\n",
        "for i in range(len(testX)):\n",
        "    testX_aug[i, :, 0] = augmenter.augment(testX[i, :, 0])"
      ],
      "metadata": {
        "id": "EsN7DVnbRNql"
      },
      "execution_count": 6,
      "outputs": []
    },
    {
      "cell_type": "markdown",
      "source": [
        "Train the model using data augmentation. We will run for 20 epochs, test the model"
      ],
      "metadata": {
        "id": "dsSzXtkbRwC2"
      }
    },
    {
      "cell_type": "code",
      "source": [
        "# Train the model on the augmented training data\n",
        "model.fit(trainX_aug, trainY, epochs=20, batch_size=1, verbose=2)\n",
        "\n",
        "# Evaluate the model on the augmented testing data\n",
        "scores_aug = model.evaluate(testX_aug, testY, verbose=0)\n",
        "print(\"Test loss (augmented data):\", scores_aug)\n"
      ],
      "metadata": {
        "id": "FI9F5dtXRWYY"
      },
      "execution_count": null,
      "outputs": []
    }
  ]
}