{
  "nbformat": 4,
  "nbformat_minor": 0,
  "metadata": {
    "colab": {
      "provenance": [],
      "authorship_tag": "ABX9TyPim41u2Z3i/xZB0iI48XXF",
      "include_colab_link": true
    },
    "kernelspec": {
      "name": "python3",
      "display_name": "Python 3"
    },
    "language_info": {
      "name": "python"
    }
  },
  "cells": [
    {
      "cell_type": "markdown",
      "metadata": {
        "id": "view-in-github",
        "colab_type": "text"
      },
      "source": [
        "<a href=\"https://colab.research.google.com/github/Ananya-AJ/Deep-Learning/blob/main/2b_operations_numpy_individual.ipynb\" target=\"_parent\"><img src=\"https://colab.research.google.com/assets/colab-badge.svg\" alt=\"Open In Colab\"/></a>"
      ]
    },
    {
      "cell_type": "code",
      "execution_count": 1,
      "metadata": {
        "id": "41bMTh5RdLKa"
      },
      "outputs": [],
      "source": [
        "import numpy as np"
      ]
    },
    {
      "cell_type": "code",
      "source": [
        "# Scalar vector multiplication\n",
        "\n",
        "a = np.array([3])\n",
        "b = np.array([2, 5, 5])\n",
        "mult = np.einsum('i, i -> i', a, b)\n",
        "print(a)\n",
        "print(b)\n",
        "print(mult)"
      ],
      "metadata": {
        "colab": {
          "base_uri": "https://localhost:8080/"
        },
        "id": "GVwRvWD0dMyZ",
        "outputId": "635b3159-9a74-4a0a-928f-43793836fa70"
      },
      "execution_count": 3,
      "outputs": [
        {
          "output_type": "stream",
          "name": "stdout",
          "text": [
            "[3]\n",
            "[2 5 5]\n",
            "[ 6 15 15]\n"
          ]
        }
      ]
    },
    {
      "cell_type": "code",
      "source": [
        "# Vector vector multiplication\n",
        "\n",
        "a = np.random.randn(2, 6)\n",
        "b = np.random.randn(6, 3)\n",
        "mult = np.einsum('ij, jk -> ik', a, b)\n",
        "print(a)\n",
        "print(b)\n",
        "print(mult)"
      ],
      "metadata": {
        "colab": {
          "base_uri": "https://localhost:8080/"
        },
        "id": "9OF_W1AKdRzg",
        "outputId": "e9572c76-0249-4165-f9e0-b605d0684edb"
      },
      "execution_count": 4,
      "outputs": [
        {
          "output_type": "stream",
          "name": "stdout",
          "text": [
            "[[-0.72859947 -0.56311665 -0.35044626 -0.30744911 -0.99209694  2.39079482]\n",
            " [-1.02041021 -1.26305752 -0.77954606  0.87423459 -2.09409991  1.3987705 ]]\n",
            "[[ 0.85130973 -0.74018118  0.38085159]\n",
            " [-1.44091758  0.52099845  0.06960448]\n",
            " [ 0.39815797  1.55230256 -0.46172546]\n",
            " [-0.06153631  0.26717691  0.59367007]\n",
            " [-0.13053762  0.64004958 -0.0941532 ]\n",
            " [-0.70043374  0.35689859  0.96035181]]\n",
            "[[-1.4745602  -0.16194914  2.05201616]\n",
            " [-0.11929024 -1.72038717  1.94288186]]\n"
          ]
        }
      ]
    },
    {
      "cell_type": "code",
      "source": [
        "# Outer product\n",
        "\n",
        "a = np.arange(1, 5)\n",
        "b = np.arange(3, 7)  \n",
        "prod = np.einsum('i,j -> ij', a, b)\n",
        "print(a)\n",
        "print(b)\n",
        "print(prod)"
      ],
      "metadata": {
        "colab": {
          "base_uri": "https://localhost:8080/"
        },
        "id": "CvIf8fPAdTzH",
        "outputId": "f916a88c-a0d7-4e21-e378-1848e3aaeb3c"
      },
      "execution_count": 5,
      "outputs": [
        {
          "output_type": "stream",
          "name": "stdout",
          "text": [
            "[1 2 3 4]\n",
            "[3 4 5 6]\n",
            "[[ 3  4  5  6]\n",
            " [ 6  8 10 12]\n",
            " [ 9 12 15 18]\n",
            " [12 16 20 24]]\n"
          ]
        }
      ]
    },
    {
      "cell_type": "code",
      "source": [
        "# Scalar dot product\n",
        "\n",
        "a = np.arange(12).reshape(4, 3)\n",
        "b = np.arange(6).reshape(3, 2)\n",
        "prod = np.einsum('ij, jk ->', a, b)\n",
        "print(a)\n",
        "print(b)\n",
        "print(prod)"
      ],
      "metadata": {
        "colab": {
          "base_uri": "https://localhost:8080/"
        },
        "id": "hGvadWoTdWDa",
        "outputId": "30c697c5-efd4-4a18-be1c-c330726e0a1d"
      },
      "execution_count": 7,
      "outputs": [
        {
          "output_type": "stream",
          "name": "stdout",
          "text": [
            "[[ 0  1  2]\n",
            " [ 3  4  5]\n",
            " [ 6  7  8]\n",
            " [ 9 10 11]]\n",
            "[[0 1]\n",
            " [2 3]\n",
            " [4 5]]\n",
            "362\n"
          ]
        }
      ]
    },
    {
      "cell_type": "code",
      "source": [
        "# Hadamard product\n",
        "\n",
        "a = np.arange(8).reshape(2, 4)\n",
        "b = np.arange(4, 12).reshape(2, 4)\n",
        "prod = np.einsum('ij, ij -> ij', a, b)\n",
        "print(a)\n",
        "print(b)\n",
        "print(prod)"
      ],
      "metadata": {
        "colab": {
          "base_uri": "https://localhost:8080/"
        },
        "id": "LswomyuadYHb",
        "outputId": "13b9e95a-4536-4289-fad1-8217a2ab57d2"
      },
      "execution_count": 10,
      "outputs": [
        {
          "output_type": "stream",
          "name": "stdout",
          "text": [
            "[[0 1 2 3]\n",
            " [4 5 6 7]]\n",
            "[[ 4  5  6  7]\n",
            " [ 8  9 10 11]]\n",
            "[[ 0  5 12 21]\n",
            " [32 45 60 77]]\n"
          ]
        }
      ]
    },
    {
      "cell_type": "code",
      "source": [
        "# Batch matrix multiplication\n",
        "\n",
        "a = np.random.randn(3, 3, 2)\n",
        "b = np.random.randn(3, 2, 4)\n",
        "batch_mult = np.einsum('bij, bjk -> bik', a, b)\n",
        "print(a)\n",
        "print(b)\n",
        "print(batch_mult)"
      ],
      "metadata": {
        "colab": {
          "base_uri": "https://localhost:8080/"
        },
        "id": "1xvTqYtNdaHS",
        "outputId": "4b0646ea-c323-4af9-92d4-5230df3152f0"
      },
      "execution_count": 12,
      "outputs": [
        {
          "output_type": "stream",
          "name": "stdout",
          "text": [
            "[[[-0.31962483  1.4148762 ]\n",
            "  [ 0.20404965 -0.22198179]\n",
            "  [-0.37749063 -0.22708498]]\n",
            "\n",
            " [[-1.08374724 -0.44933437]\n",
            "  [ 1.06290236 -0.29772882]\n",
            "  [ 0.4378594  -0.31263385]]\n",
            "\n",
            " [[ 1.29628121 -0.59295881]\n",
            "  [-0.12298078 -1.3757131 ]\n",
            "  [ 1.23526394 -0.72507427]]]\n",
            "[[[ 0.05380001 -0.10710565  0.58741396  0.00387171]\n",
            "  [ 1.31363412 -0.25281405  0.8619768  -1.23723948]]\n",
            "\n",
            " [[-1.61076337  0.30450433 -0.49622679 -1.4899322 ]\n",
            "  [ 1.04003193 -0.06713588 -0.71787845  0.38075592]]\n",
            "\n",
            " [[-0.81878825 -0.55689415 -0.76793029 -0.1727706 ]\n",
            "  [-0.02897642 -1.16214546  1.35274138  0.15814141]]]\n",
            "[[[ 1.84143383 -0.32346696  1.03183836 -1.75177819]\n",
            "  [-0.28062497  0.03426524 -0.07148153  0.27543465]\n",
            "  [-0.31861558  0.09784165 -0.41748525  0.27949697]]\n",
            "\n",
            " [[ 1.27833827 -0.29983927  0.86035187  1.44362319]\n",
            "  [-2.02173168  0.34364665 -0.31370752 -1.69701447]\n",
            "  [-1.03043707  0.15431903  0.00715554 -0.77141801]]\n",
            "\n",
            " [[-1.044198   -0.03278703 -1.79757353 -0.31773063]\n",
            "  [ 0.14055846  1.66726601 -1.76654337 -0.19630974]\n",
            "  [-0.99040954  0.15473052 -1.92943457 -0.32808156]]]\n"
          ]
        }
      ]
    },
    {
      "cell_type": "code",
      "source": [
        "# Tensor reduction\n",
        "\n",
        "a = np.random.randn(2, 3, 5, 7)\n",
        "b = np.random.randn(4, 1, 3, 11, 5)\n",
        "reduction = np.einsum('pqrs, tuqvr -> pstuv', a, b)\n",
        "print(a.shape, b.shape, reduction.shape)"
      ],
      "metadata": {
        "colab": {
          "base_uri": "https://localhost:8080/"
        },
        "id": "qx9AZLUxdcGo",
        "outputId": "75810d81-6065-46ed-8c4c-32ec19e243f8"
      },
      "execution_count": 13,
      "outputs": [
        {
          "output_type": "stream",
          "name": "stdout",
          "text": [
            "(2, 3, 5, 7) (4, 1, 3, 11, 5) (2, 7, 4, 1, 11)\n"
          ]
        }
      ]
    },
    {
      "cell_type": "code",
      "source": [
        "# Transpose\n",
        "\n",
        "a = np.arange(12).reshape(3, 4)\n",
        "transpose = np.einsum('ij -> ji', a)\n",
        "print(a)\n",
        "print(transpose)"
      ],
      "metadata": {
        "colab": {
          "base_uri": "https://localhost:8080/"
        },
        "id": "ToF6xvWvdedb",
        "outputId": "ddcc1644-e564-49a6-b1d1-05e0df7c9a57"
      },
      "execution_count": 14,
      "outputs": [
        {
          "output_type": "stream",
          "name": "stdout",
          "text": [
            "[[ 0  1  2  3]\n",
            " [ 4  5  6  7]\n",
            " [ 8  9 10 11]]\n",
            "[[ 0  4  8]\n",
            " [ 1  5  9]\n",
            " [ 2  6 10]\n",
            " [ 3  7 11]]\n"
          ]
        }
      ]
    },
    {
      "cell_type": "code",
      "source": [
        "# Bilinear transformation\n",
        "\n",
        "a = np.random.randn(2, 3)\n",
        "b = np.random.randn(3, 3, 4)\n",
        "c = np.random.randn(2, 4)\n",
        "bilinear = np.einsum('ik, jkl, il -> ij', a, b, c)\n",
        "print(a)\n",
        "print(b)\n",
        "print(c)\n",
        "print(bilinear)"
      ],
      "metadata": {
        "colab": {
          "base_uri": "https://localhost:8080/"
        },
        "id": "ajOqWYpFdgZ5",
        "outputId": "22c59409-91de-4e64-9dbc-fbc421dc780c"
      },
      "execution_count": 15,
      "outputs": [
        {
          "output_type": "stream",
          "name": "stdout",
          "text": [
            "[[ 1.33851164  0.50644219  1.27982596]\n",
            " [-0.05272189 -1.89758596  1.91693229]]\n",
            "[[[-1.26932736 -0.34576171 -1.14349446 -0.72750098]\n",
            "  [ 1.92434282  0.66681852 -0.90064607 -0.43727088]\n",
            "  [-0.27326683 -0.46046469  0.13461986 -1.48669756]]\n",
            "\n",
            " [[ 1.5308133   0.21304475 -0.27943283 -0.242511  ]\n",
            "  [ 0.19862012 -1.19262243 -0.16951406  0.28193146]\n",
            "  [ 0.16772231  0.16115379 -0.41408051  0.61597856]]\n",
            "\n",
            " [[-1.16101544  1.00004474  0.51856689  1.21406435]\n",
            "  [ 0.9486985   0.73723797  0.28176153  0.24247397]\n",
            "  [-0.10885383 -0.23344128 -0.23053203  1.24669335]]]\n",
            "[[ 0.14825699  1.32885782 -1.85326231 -0.09412653]\n",
            " [-1.3730545  -0.82481975  0.75127308  1.70308882]]\n",
            "[[ 2.5455755   1.97822504  0.37936051]\n",
            " [ 5.54589239 -1.14730375  6.66401468]]\n"
          ]
        }
      ]
    },
    {
      "cell_type": "code",
      "source": [
        "# Attention\n",
        "\n",
        "# Parameters\n",
        "# [hidden_dimension]\n",
        "bM = np.random.randn(7)\n",
        "br = np.random.randn(7) \n",
        "w = np.random.randn(7)\n",
        "# [hidden_dimension x hidden_dimension]\n",
        "WY = np.random.randn(7, 7)\n",
        "Wh = np.random.randn(7, 7)\n",
        "Wr = np.random.randn(7, 7)\n",
        "Wt = np.random.randn(7, 7)\n",
        "\n",
        "def attention(Y, ht, rt1):\n",
        "  # [batch_size x hidden_dimension] \n",
        "  tmp = np.einsum('ik, kl -> il', ht, Wh) + np.einsum('ik, kl -> il', rt1, Wr)\n",
        "\n",
        "  tmp_expanded = np.expand_dims(tmp, 1)\n",
        "  tmp_tiled = np.tile(tmp_expanded, [1, Y.shape[1], 1]) \n",
        "  Mt = np.tanh(np.einsum('ijk, kl -> ijl', Y, WY) + tmp_tiled + bM)\n",
        "  \n",
        "  # [batch_size x sequence_length]\n",
        "  at = np.einsum('ijk, k -> ij', Mt, w)\n",
        "  at = np.exp(at)/np.sum(np.exp(at))\n",
        "  \n",
        "  # [batch_size x hidden_dimension]\n",
        "  rt = np.einsum('ijk, ij -> ik', Y, at) + np.tanh(np.einsum('ij, jk -> ik', rt1, Wt) + br)\n",
        "  \n",
        "  return rt, at\n",
        "\n",
        "# Inputs - [batch_size x sequence_length x hidden_dimension]\n",
        "Y = np.random.randn(3,5,7)\n",
        "# [batch_size x hidden_dimension]\n",
        "ht = np.random.randn(3, 7)\n",
        "rt1 = np.random.randn(3, 7)\n",
        "\n",
        "rt, at = attention(Y, ht, rt1)\n",
        "\n",
        "print(at)"
      ],
      "metadata": {
        "colab": {
          "base_uri": "https://localhost:8080/"
        },
        "id": "UFTVKHjDdiaR",
        "outputId": "8df9f0ae-52f1-444a-aa88-ec84c132e16a"
      },
      "execution_count": 16,
      "outputs": [
        {
          "output_type": "stream",
          "name": "stdout",
          "text": [
            "[[0.01010618 0.04288619 0.21485085 0.14605524 0.04786392]\n",
            " [0.11552635 0.00181341 0.04861536 0.109196   0.04144443]\n",
            " [0.04740241 0.02643523 0.01030841 0.06427336 0.07322265]]\n"
          ]
        }
      ]
    },
    {
      "cell_type": "code",
      "source": [
        "# Treeqn\n",
        "\n",
        "def transition(zl):\n",
        "  # [batch_size x num_actions x hidden_dimension]\n",
        "  return np.expand_dims(zl, 1) + np.tanh(np.einsum('bk, aki -> bai', zl, W) + b)\n",
        "\n",
        "# Inputs - [batch_size x hidden_dimension]\n",
        "zl = np.random.rand(2, 3)\n",
        "# Parameters - [num_actions x hidden_dimension]\n",
        "b = np.random.rand(5, 3)\n",
        "# Actions - [num_actions x hidden_dimension x hidden_dimension]\n",
        "W = np.random.rand(5, 3, 3)\n",
        "\n",
        "transition(zl)"
      ],
      "metadata": {
        "colab": {
          "base_uri": "https://localhost:8080/"
        },
        "id": "0mVN-oIadmcY",
        "outputId": "0d0014fe-8b87-4435-8719-2045c7259bbc"
      },
      "execution_count": 17,
      "outputs": [
        {
          "output_type": "execute_result",
          "data": {
            "text/plain": [
              "array([[[0.40404847, 1.02994525, 1.09285103],\n",
              "        [0.89218362, 1.05390802, 0.80343065],\n",
              "        [0.90450645, 0.87865806, 1.00905008],\n",
              "        [0.73507678, 1.00492581, 0.96942851],\n",
              "        [0.96203947, 0.95220603, 1.01723394]],\n",
              "\n",
              "       [[0.94274188, 1.60727937, 1.40107505],\n",
              "        [1.28734255, 1.58125909, 1.21205071],\n",
              "        [1.26744136, 1.48996276, 1.27671707],\n",
              "        [1.19326402, 1.5540381 , 1.30871214],\n",
              "        [1.32289484, 1.59260185, 1.42297863]]])"
            ]
          },
          "metadata": {},
          "execution_count": 17
        }
      ]
    }
  ]
}